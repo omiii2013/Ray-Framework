{
 "cells": [
  {
   "cell_type": "code",
   "execution_count": 5,
   "id": "0dafa105",
   "metadata": {},
   "outputs": [
    {
     "name": "stdout",
     "output_type": "stream",
     "text": [
      "Requirement already satisfied: ray in c:\\users\\admin\\anaconda3\\lib\\site-packages (2.38.0)\n",
      "Requirement already satisfied: click>=7.0 in c:\\users\\admin\\anaconda3\\lib\\site-packages (from ray) (8.0.4)\n",
      "Requirement already satisfied: filelock in c:\\users\\admin\\anaconda3\\lib\\site-packages (from ray) (3.9.0)\n",
      "Requirement already satisfied: jsonschema in c:\\users\\admin\\anaconda3\\lib\\site-packages (from ray) (4.17.3)\n",
      "Requirement already satisfied: msgpack<2.0.0,>=1.0.0 in c:\\users\\admin\\anaconda3\\lib\\site-packages (from ray) (1.0.3)\n",
      "Requirement already satisfied: packaging in c:\\users\\admin\\anaconda3\\lib\\site-packages (from ray) (23.1)\n",
      "Requirement already satisfied: protobuf!=3.19.5,>=3.15.3 in c:\\users\\admin\\anaconda3\\lib\\site-packages (from ray) (5.28.3)\n",
      "Requirement already satisfied: pyyaml in c:\\users\\admin\\anaconda3\\lib\\site-packages (from ray) (6.0)\n",
      "Requirement already satisfied: aiosignal in c:\\users\\admin\\anaconda3\\lib\\site-packages (from ray) (1.2.0)\n",
      "Requirement already satisfied: frozenlist in c:\\users\\admin\\anaconda3\\lib\\site-packages (from ray) (1.3.3)\n",
      "Requirement already satisfied: requests in c:\\users\\admin\\anaconda3\\lib\\site-packages (from ray) (2.31.0)\n",
      "Requirement already satisfied: colorama in c:\\users\\admin\\anaconda3\\lib\\site-packages (from click>=7.0->ray) (0.4.6)\n",
      "Requirement already satisfied: attrs>=17.4.0 in c:\\users\\admin\\anaconda3\\lib\\site-packages (from jsonschema->ray) (22.1.0)\n",
      "Requirement already satisfied: pyrsistent!=0.17.0,!=0.17.1,!=0.17.2,>=0.14.0 in c:\\users\\admin\\anaconda3\\lib\\site-packages (from jsonschema->ray) (0.18.0)\n",
      "Requirement already satisfied: charset-normalizer<4,>=2 in c:\\users\\admin\\anaconda3\\lib\\site-packages (from requests->ray) (2.0.4)\n",
      "Requirement already satisfied: idna<4,>=2.5 in c:\\users\\admin\\anaconda3\\lib\\site-packages (from requests->ray) (3.4)\n",
      "Requirement already satisfied: urllib3<3,>=1.21.1 in c:\\users\\admin\\anaconda3\\lib\\site-packages (from requests->ray) (1.26.16)\n",
      "Requirement already satisfied: certifi>=2017.4.17 in c:\\users\\admin\\anaconda3\\lib\\site-packages (from requests->ray) (2023.7.22)\n",
      "Note: you may need to restart the kernel to use updated packages.\n"
     ]
    }
   ],
   "source": [
    "pip install ray"
   ]
  },
  {
   "cell_type": "code",
   "execution_count": 7,
   "id": "5c497d1f",
   "metadata": {},
   "outputs": [
    {
     "data": {
      "text/html": [
       "<div class=\"tuneStatus\">\n",
       "  <div style=\"display: flex;flex-direction: row\">\n",
       "    <div style=\"display: flex;flex-direction: column;\">\n",
       "      <h3>Tune Status</h3>\n",
       "      <table>\n",
       "<tbody>\n",
       "<tr><td>Current time:</td><td>2024-12-10 19:34:23</td></tr>\n",
       "<tr><td>Running for: </td><td>00:02:35.12        </td></tr>\n",
       "<tr><td>Memory:      </td><td>6.8/7.7 GiB        </td></tr>\n",
       "</tbody>\n",
       "</table>\n",
       "    </div>\n",
       "    <div class=\"vDivider\"></div>\n",
       "    <div class=\"systemInfo\">\n",
       "      <h3>System Info</h3>\n",
       "      Using FIFO scheduling algorithm.<br>Logical resource usage: 4.0/4 CPUs, 0/0 GPUs\n",
       "    </div>\n",
       "    \n",
       "  </div>\n",
       "  <div class=\"hDivider\"></div>\n",
       "  <div class=\"trialStatus\">\n",
       "    <h3>Trial Status</h3>\n",
       "    <table>\n",
       "<thead>\n",
       "<tr><th>Trial name                </th><th>status    </th><th>loc            </th><th style=\"text-align: right;\">  params/max_depth</th><th style=\"text-align: right;\">  iter</th><th style=\"text-align: right;\">  total time (s)</th><th style=\"text-align: right;\">  train-logloss</th><th style=\"text-align: right;\">  train-error</th><th style=\"text-align: right;\">  valid-logloss</th></tr>\n",
       "</thead>\n",
       "<tbody>\n",
       "<tr><td>XGBoostTrainer_4ee9d_00000</td><td>TERMINATED</td><td>127.0.0.1:20008</td><td style=\"text-align: right;\">                50</td><td style=\"text-align: right;\">    31</td><td style=\"text-align: right;\">         33.672 </td><td style=\"text-align: right;\">      0.0108854</td><td style=\"text-align: right;\">    0        </td><td style=\"text-align: right;\">      0.047455 </td></tr>\n",
       "<tr><td>XGBoostTrainer_4ee9d_00001</td><td>TERMINATED</td><td>127.0.0.1:20624</td><td style=\"text-align: right;\">                 5</td><td style=\"text-align: right;\">    31</td><td style=\"text-align: right;\">         22.8771</td><td style=\"text-align: right;\">      0.0103782</td><td style=\"text-align: right;\">    0        </td><td style=\"text-align: right;\">      0.0403975</td></tr>\n",
       "<tr><td>XGBoostTrainer_4ee9d_00002</td><td>TERMINATED</td><td>127.0.0.1:15468</td><td style=\"text-align: right;\">                 1</td><td style=\"text-align: right;\">    31</td><td style=\"text-align: right;\">         18.6195</td><td style=\"text-align: right;\">      0.0705789</td><td style=\"text-align: right;\">    0.0154525</td><td style=\"text-align: right;\">      0.0848822</td></tr>\n",
       "<tr><td>XGBoostTrainer_4ee9d_00003</td><td>TERMINATED</td><td>127.0.0.1:10428</td><td style=\"text-align: right;\">                 1</td><td style=\"text-align: right;\">    31</td><td style=\"text-align: right;\">         16.2519</td><td style=\"text-align: right;\">      0.0705789</td><td style=\"text-align: right;\">    0.0154525</td><td style=\"text-align: right;\">      0.0848822</td></tr>\n",
       "<tr><td>XGBoostTrainer_4ee9d_00004</td><td>TERMINATED</td><td>127.0.0.1:9996 </td><td style=\"text-align: right;\">               100</td><td style=\"text-align: right;\">    31</td><td style=\"text-align: right;\">         17.2518</td><td style=\"text-align: right;\">      0.0108854</td><td style=\"text-align: right;\">    0        </td><td style=\"text-align: right;\">      0.047455 </td></tr>\n",
       "</tbody>\n",
       "</table>\n",
       "  </div>\n",
       "</div>\n",
       "<style>\n",
       ".tuneStatus {\n",
       "  color: var(--jp-ui-font-color1);\n",
       "}\n",
       ".tuneStatus .systemInfo {\n",
       "  display: flex;\n",
       "  flex-direction: column;\n",
       "}\n",
       ".tuneStatus td {\n",
       "  white-space: nowrap;\n",
       "}\n",
       ".tuneStatus .trialStatus {\n",
       "  display: flex;\n",
       "  flex-direction: column;\n",
       "}\n",
       ".tuneStatus h3 {\n",
       "  font-weight: bold;\n",
       "}\n",
       ".tuneStatus .hDivider {\n",
       "  border-bottom-width: var(--jp-border-width);\n",
       "  border-bottom-color: var(--jp-border-color0);\n",
       "  border-bottom-style: solid;\n",
       "}\n",
       ".tuneStatus .vDivider {\n",
       "  border-left-width: var(--jp-border-width);\n",
       "  border-left-color: var(--jp-border-color0);\n",
       "  border-left-style: solid;\n",
       "  margin: 0.5em 1em 0.5em 1em;\n",
       "}\n",
       "</style>\n"
      ],
      "text/plain": [
       "<IPython.core.display.HTML object>"
      ]
     },
     "metadata": {},
     "output_type": "display_data"
    },
    {
     "name": "stderr",
     "output_type": "stream",
     "text": [
      "\u001b[36m(XGBoostTrainer pid=20008)\u001b[0m Started distributed worker processes: \n",
      "\u001b[36m(XGBoostTrainer pid=20008)\u001b[0m - (node_id=e3ad6dd743f38fb6ad65f352ab024ac371bddd111b7b321bd0527f89, ip=127.0.0.1, pid=12188) world_rank=0, local_rank=0, node_rank=0\n",
      "\u001b[36m(XGBoostTrainer pid=20008)\u001b[0m - (node_id=e3ad6dd743f38fb6ad65f352ab024ac371bddd111b7b321bd0527f89, ip=127.0.0.1, pid=9596) world_rank=1, local_rank=1, node_rank=0\n",
      "\u001b[36m(XGBoostTrainer pid=20008)\u001b[0m - (node_id=e3ad6dd743f38fb6ad65f352ab024ac371bddd111b7b321bd0527f89, ip=127.0.0.1, pid=20052) world_rank=2, local_rank=2, node_rank=0\n",
      "\u001b[36m(RayTrainWorker pid=12188)\u001b[0m [19:32:18] Task [xgboost.ray-rank=00000000]:85808862c297aec2d371660f01000000 got rank 0\n",
      "\u001b[36m(SplitCoordinator pid=17700)\u001b[0m Starting execution of Dataset. Full logs are in C:\\Users\\ADMIN\\AppData\\Local\\Temp\\ray\\session_2024-12-10_19-25-32_918088_1352\\logs\\ray-data\n",
      "\u001b[36m(SplitCoordinator pid=17700)\u001b[0m Execution plan of Dataset: InputDataBuffer[Input] -> OutputSplitter[split(3, equal=True)]\n"
     ]
    },
    {
     "data": {
      "application/vnd.jupyter.widget-view+json": {
       "model_id": "2d336fb903a24ab5a639e1111a1efb8f",
       "version_major": 2,
       "version_minor": 0
      },
      "text/plain": [
       "(pid=17700) Running 0: 0.00 row [00:00, ? row/s]"
      ]
     },
     "metadata": {},
     "output_type": "display_data"
    },
    {
     "data": {
      "application/vnd.jupyter.widget-view+json": {
       "model_id": "f397a3e97e1f46efa102879b5e6e0e45",
       "version_major": 2,
       "version_minor": 0
      },
      "text/plain": [
       "(pid=17700) - split(3, equal=True) 1: 0.00 row [00:00, ? row/s]"
      ]
     },
     "metadata": {},
     "output_type": "display_data"
    },
    {
     "name": "stderr",
     "output_type": "stream",
     "text": [
      "\u001b[36m(RayTrainWorker pid=20052)\u001b[0m [19:32:18] Task [xgboost.ray-rank=00000002]:0eb478b5c91dbe5c7b3226e801000000 got rank 2\u001b[32m [repeated 2x across cluster]\u001b[0m\n",
      "\u001b[36m(SplitCoordinator pid=12720)\u001b[0m Starting execution of Dataset. Full logs are in C:\\Users\\ADMIN\\AppData\\Local\\Temp\\ray\\session_2024-12-10_19-25-32_918088_1352\\logs\\ray-data\n",
      "\u001b[36m(SplitCoordinator pid=12720)\u001b[0m Execution plan of Dataset: InputDataBuffer[Input] -> OutputSplitter[split(3, equal=True)]\n"
     ]
    },
    {
     "data": {
      "application/vnd.jupyter.widget-view+json": {
       "model_id": "17d1500735c9410a939bfc4b68c4c758",
       "version_major": 2,
       "version_minor": 0
      },
      "text/plain": [
       "(pid=12720) Running 0: 0.00 row [00:00, ? row/s]"
      ]
     },
     "metadata": {},
     "output_type": "display_data"
    },
    {
     "data": {
      "application/vnd.jupyter.widget-view+json": {
       "model_id": "61143b2474354ff9842c6d6b96404261",
       "version_major": 2,
       "version_minor": 0
      },
      "text/plain": [
       "(pid=12720) - split(3, equal=True) 1: 0.00 row [00:00, ? row/s]"
      ]
     },
     "metadata": {},
     "output_type": "display_data"
    },
    {
     "name": "stderr",
     "output_type": "stream",
     "text": [
      "\u001b[36m(XGBoostTrainer pid=20008)\u001b[0m [19:32:30] [0]\ttrain-logloss:0.44963\ttrain-error:0.02428\tvalid-logloss:0.45128\tvalid-error:0.07895\n",
      "\u001b[36m(XGBoostTrainer pid=20008)\u001b[0m [19:32:30] [1]\ttrain-logloss:0.32296\ttrain-error:0.02208\tvalid-logloss:0.35640\tvalid-error:0.07018\n",
      "\u001b[36m(XGBoostTrainer pid=20008)\u001b[0m [19:32:30] [2]\ttrain-logloss:0.23951\ttrain-error:0.01104\tvalid-logloss:0.28115\tvalid-error:0.07895\n",
      "\u001b[36m(XGBoostTrainer pid=20008)\u001b[0m [19:32:31] [3]\ttrain-logloss:0.18233\ttrain-error:0.01104\tvalid-logloss:0.23415\tvalid-error:0.04386\n",
      "\u001b[36m(XGBoostTrainer pid=20008)\u001b[0m [19:32:31] [4]\ttrain-logloss:0.14165\ttrain-error:0.00883\tvalid-logloss:0.19498\tvalid-error:0.04386\n",
      "\u001b[36m(XGBoostTrainer pid=20008)\u001b[0m [19:32:31] [5]\ttrain-logloss:0.11227\ttrain-error:0.00442\tvalid-logloss:0.17539\tvalid-error:0.03509\n",
      "\u001b[36m(XGBoostTrainer pid=20008)\u001b[0m [19:32:31] [6]\ttrain-logloss:0.09077\ttrain-error:0.00662\tvalid-logloss:0.15537\tvalid-error:0.03509\n",
      "\u001b[36m(XGBoostTrainer pid=20008)\u001b[0m [19:32:31] [7]\ttrain-logloss:0.07449\ttrain-error:0.00442\tvalid-logloss:0.13189\tvalid-error:0.01754\n",
      "\u001b[36m(XGBoostTrainer pid=20008)\u001b[0m [19:32:31] [8]\ttrain-logloss:0.06241\ttrain-error:0.00442\tvalid-logloss:0.11171\tvalid-error:0.00000\n",
      "\u001b[36m(XGBoostTrainer pid=20008)\u001b[0m [19:32:31] [9]\ttrain-logloss:0.05268\ttrain-error:0.00442\tvalid-logloss:0.10911\tvalid-error:0.01754\n",
      "\u001b[36m(XGBoostTrainer pid=20008)\u001b[0m [19:32:31] [10]\ttrain-logloss:0.04537\ttrain-error:0.00442\tvalid-logloss:0.10359\tvalid-error:0.01754\n",
      "\u001b[36m(XGBoostTrainer pid=20008)\u001b[0m [19:32:31] [11]\ttrain-logloss:0.03897\ttrain-error:0.00000\tvalid-logloss:0.09775\tvalid-error:0.02632\n",
      "\u001b[36m(XGBoostTrainer pid=20008)\u001b[0m [19:32:31] [12]\ttrain-logloss:0.03426\ttrain-error:0.00221\tvalid-logloss:0.08887\tvalid-error:0.02632\n",
      "\u001b[36m(XGBoostTrainer pid=20008)\u001b[0m [19:32:31] [13]\ttrain-logloss:0.03031\ttrain-error:0.00000\tvalid-logloss:0.08275\tvalid-error:0.02632\n",
      "\u001b[36m(XGBoostTrainer pid=20008)\u001b[0m [19:32:31] [14]\ttrain-logloss:0.02683\ttrain-error:0.00000\tvalid-logloss:0.07362\tvalid-error:0.01754\n",
      "\u001b[36m(XGBoostTrainer pid=20008)\u001b[0m [19:32:31] [15]\ttrain-logloss:0.02431\ttrain-error:0.00000\tvalid-logloss:0.06677\tvalid-error:0.02632\n",
      "\u001b[36m(XGBoostTrainer pid=20008)\u001b[0m [19:32:31] [16]\ttrain-logloss:0.02225\ttrain-error:0.00000\tvalid-logloss:0.06311\tvalid-error:0.01754\n",
      "\u001b[36m(XGBoostTrainer pid=20008)\u001b[0m [19:32:31] [17]\ttrain-logloss:0.02057\ttrain-error:0.00000\tvalid-logloss:0.06033\tvalid-error:0.01754\n",
      "\u001b[36m(XGBoostTrainer pid=20008)\u001b[0m [19:32:31] [18]\ttrain-logloss:0.01904\ttrain-error:0.00000\tvalid-logloss:0.05695\tvalid-error:0.00877\n",
      "\u001b[36m(XGBoostTrainer pid=20008)\u001b[0m [19:32:31] [19]\ttrain-logloss:0.01755\ttrain-error:0.00000\tvalid-logloss:0.05675\tvalid-error:0.00877\n",
      "\u001b[36m(XGBoostTrainer pid=20008)\u001b[0m [19:32:31] [20]\ttrain-logloss:0.01621\ttrain-error:0.00000\tvalid-logloss:0.05645\tvalid-error:0.01754\n",
      "\u001b[36m(XGBoostTrainer pid=20008)\u001b[0m [19:32:32] [21]\ttrain-logloss:0.01506\ttrain-error:0.00000\tvalid-logloss:0.05401\tvalid-error:0.00877\n",
      "\u001b[36m(XGBoostTrainer pid=20008)\u001b[0m [19:32:32] [22]\ttrain-logloss:0.01433\ttrain-error:0.00000\tvalid-logloss:0.05220\tvalid-error:0.01754\n",
      "\u001b[36m(XGBoostTrainer pid=20008)\u001b[0m [19:32:32] [23]\ttrain-logloss:0.01372\ttrain-error:0.00000\tvalid-logloss:0.05118\tvalid-error:0.00877\n",
      "\u001b[36m(XGBoostTrainer pid=20008)\u001b[0m [19:32:32] [24]\ttrain-logloss:0.01316\ttrain-error:0.00000\tvalid-logloss:0.05096\tvalid-error:0.00877\n",
      "\u001b[36m(XGBoostTrainer pid=20008)\u001b[0m [19:32:32] [25]\ttrain-logloss:0.01262\ttrain-error:0.00000\tvalid-logloss:0.05019\tvalid-error:0.00877\n",
      "\u001b[36m(XGBoostTrainer pid=20008)\u001b[0m [19:32:32] [26]\ttrain-logloss:0.01217\ttrain-error:0.00000\tvalid-logloss:0.04922\tvalid-error:0.00877\n",
      "\u001b[36m(XGBoostTrainer pid=20008)\u001b[0m [19:32:32] [27]\ttrain-logloss:0.01166\ttrain-error:0.00000\tvalid-logloss:0.04729\tvalid-error:0.00877\n",
      "\u001b[36m(XGBoostTrainer pid=20008)\u001b[0m [19:32:32] [28]\ttrain-logloss:0.01115\ttrain-error:0.00000\tvalid-logloss:0.04877\tvalid-error:0.00877\n",
      "\u001b[36m(XGBoostTrainer pid=20008)\u001b[0m [19:32:32] [29]\ttrain-logloss:0.01089\ttrain-error:0.00000\tvalid-logloss:0.04746\tvalid-error:0.00877\n",
      "\u001b[36m(RayTrainWorker pid=12188)\u001b[0m Checkpoint successfully created at: Checkpoint(filesystem=local, path=C:/Users/ADMIN/ray_logs/XGBoostTrainer_2024-12-10_19-31-48/XGBoostTrainer_4ee9d_00000/checkpoint_000000)\n",
      "\u001b[36m(XGBoostTrainer pid=20624)\u001b[0m Started distributed worker processes: \n",
      "\u001b[36m(XGBoostTrainer pid=20624)\u001b[0m - (node_id=e3ad6dd743f38fb6ad65f352ab024ac371bddd111b7b321bd0527f89, ip=127.0.0.1, pid=2888) world_rank=0, local_rank=0, node_rank=0\n",
      "\u001b[36m(XGBoostTrainer pid=20624)\u001b[0m - (node_id=e3ad6dd743f38fb6ad65f352ab024ac371bddd111b7b321bd0527f89, ip=127.0.0.1, pid=12656) world_rank=1, local_rank=1, node_rank=0\n",
      "\u001b[36m(XGBoostTrainer pid=20624)\u001b[0m - (node_id=e3ad6dd743f38fb6ad65f352ab024ac371bddd111b7b321bd0527f89, ip=127.0.0.1, pid=18636) world_rank=2, local_rank=2, node_rank=0\n",
      "\u001b[36m(RayTrainWorker pid=2888)\u001b[0m [19:32:55] Task [xgboost.ray-rank=00000000]:977f7084b31fa308347bd24801000000 got rank 0\n",
      "\u001b[36m(SplitCoordinator pid=15140)\u001b[0m Starting execution of Dataset. Full logs are in C:\\Users\\ADMIN\\AppData\\Local\\Temp\\ray\\session_2024-12-10_19-25-32_918088_1352\\logs\\ray-data\n",
      "\u001b[36m(SplitCoordinator pid=15140)\u001b[0m Execution plan of Dataset: InputDataBuffer[Input] -> OutputSplitter[split(3, equal=True)]\n"
     ]
    },
    {
     "data": {
      "application/vnd.jupyter.widget-view+json": {
       "model_id": "96cb11c3fcc04d44b7a9217aa32c412f",
       "version_major": 2,
       "version_minor": 0
      },
      "text/plain": [
       "(pid=15140) Running 0: 0.00 row [00:00, ? row/s]"
      ]
     },
     "metadata": {},
     "output_type": "display_data"
    },
    {
     "data": {
      "application/vnd.jupyter.widget-view+json": {
       "model_id": "4f3f5ad091a141b2a08ae2f3a451f3a9",
       "version_major": 2,
       "version_minor": 0
      },
      "text/plain": [
       "(pid=15140) - split(3, equal=True) 1: 0.00 row [00:00, ? row/s]"
      ]
     },
     "metadata": {},
     "output_type": "display_data"
    },
    {
     "name": "stderr",
     "output_type": "stream",
     "text": [
      "\u001b[36m(RayTrainWorker pid=18636)\u001b[0m [19:32:55] Task [xgboost.ray-rank=00000002]:034d0beee8a6a329c8515a4401000000 got rank 2\u001b[32m [repeated 2x across cluster]\u001b[0m\n",
      "\u001b[36m(SplitCoordinator pid=16184)\u001b[0m Starting execution of Dataset. Full logs are in C:\\Users\\ADMIN\\AppData\\Local\\Temp\\ray\\session_2024-12-10_19-25-32_918088_1352\\logs\\ray-data\n",
      "\u001b[36m(SplitCoordinator pid=16184)\u001b[0m Execution plan of Dataset: InputDataBuffer[Input] -> OutputSplitter[split(3, equal=True)]\n"
     ]
    },
    {
     "data": {
      "application/vnd.jupyter.widget-view+json": {
       "model_id": "c14acc905d784a78b4a11c51fdd97b8e",
       "version_major": 2,
       "version_minor": 0
      },
      "text/plain": [
       "(pid=16184) Running 0: 0.00 row [00:00, ? row/s]"
      ]
     },
     "metadata": {},
     "output_type": "display_data"
    },
    {
     "data": {
      "application/vnd.jupyter.widget-view+json": {
       "model_id": "89bebff5297a404296c7574a99376e35",
       "version_major": 2,
       "version_minor": 0
      },
      "text/plain": [
       "(pid=16184) - split(3, equal=True) 1: 0.00 row [00:00, ? row/s]"
      ]
     },
     "metadata": {},
     "output_type": "display_data"
    },
    {
     "name": "stderr",
     "output_type": "stream",
     "text": [
      "\u001b[36m(XGBoostTrainer pid=20624)\u001b[0m [19:33:05] [0]\ttrain-logloss:0.45103\ttrain-error:0.02428\tvalid-logloss:0.44948\tvalid-error:0.07895\n",
      "\u001b[36m(XGBoostTrainer pid=20624)\u001b[0m [19:33:05] [1]\ttrain-logloss:0.32500\ttrain-error:0.02208\tvalid-logloss:0.35593\tvalid-error:0.07018\n",
      "\u001b[36m(XGBoostTrainer pid=20624)\u001b[0m [19:33:05] [2]\ttrain-logloss:0.24130\ttrain-error:0.01325\tvalid-logloss:0.28084\tvalid-error:0.07895\n",
      "\u001b[36m(XGBoostTrainer pid=20624)\u001b[0m [19:33:05] [3]\ttrain-logloss:0.18365\ttrain-error:0.01104\tvalid-logloss:0.23421\tvalid-error:0.05263\n",
      "\u001b[36m(XGBoostTrainer pid=20624)\u001b[0m [19:33:05] [4]\ttrain-logloss:0.14339\ttrain-error:0.01104\tvalid-logloss:0.20066\tvalid-error:0.05263\n",
      "\u001b[36m(XGBoostTrainer pid=20624)\u001b[0m [19:33:05] [5]\ttrain-logloss:0.11374\ttrain-error:0.01104\tvalid-logloss:0.16625\tvalid-error:0.04386\n",
      "\u001b[36m(XGBoostTrainer pid=20624)\u001b[0m [19:33:05] [6]\ttrain-logloss:0.09190\ttrain-error:0.00662\tvalid-logloss:0.14392\tvalid-error:0.00877\n",
      "\u001b[36m(XGBoostTrainer pid=20624)\u001b[0m [19:33:05] [7]\ttrain-logloss:0.07636\ttrain-error:0.00442\tvalid-logloss:0.13295\tvalid-error:0.04386\n",
      "\u001b[36m(XGBoostTrainer pid=20624)\u001b[0m [19:33:05] [8]\ttrain-logloss:0.06282\ttrain-error:0.00442\tvalid-logloss:0.12062\tvalid-error:0.01754\n",
      "\u001b[36m(XGBoostTrainer pid=20624)\u001b[0m [19:33:05] [9]\ttrain-logloss:0.05225\ttrain-error:0.00442\tvalid-logloss:0.10939\tvalid-error:0.00877\n",
      "\u001b[36m(XGBoostTrainer pid=20624)\u001b[0m [19:33:05] [10]\ttrain-logloss:0.04397\ttrain-error:0.00221\tvalid-logloss:0.09746\tvalid-error:0.00877\n",
      "\u001b[36m(XGBoostTrainer pid=20624)\u001b[0m [19:33:05] [11]\ttrain-logloss:0.03742\ttrain-error:0.00000\tvalid-logloss:0.09149\tvalid-error:0.01754\n",
      "\u001b[36m(XGBoostTrainer pid=20624)\u001b[0m [19:33:05] [12]\ttrain-logloss:0.03251\ttrain-error:0.00000\tvalid-logloss:0.08101\tvalid-error:0.01754\n",
      "\u001b[36m(XGBoostTrainer pid=20624)\u001b[0m [19:33:05] [13]\ttrain-logloss:0.02862\ttrain-error:0.00000\tvalid-logloss:0.07782\tvalid-error:0.01754\n",
      "\u001b[36m(XGBoostTrainer pid=20624)\u001b[0m [19:33:05] [14]\ttrain-logloss:0.02590\ttrain-error:0.00000\tvalid-logloss:0.06830\tvalid-error:0.00877\n",
      "\u001b[36m(XGBoostTrainer pid=20624)\u001b[0m [19:33:05] [15]\ttrain-logloss:0.02343\ttrain-error:0.00000\tvalid-logloss:0.06580\tvalid-error:0.00877\n",
      "\u001b[36m(XGBoostTrainer pid=20624)\u001b[0m [19:33:05] [16]\ttrain-logloss:0.02133\ttrain-error:0.00000\tvalid-logloss:0.06067\tvalid-error:0.00877\n",
      "\u001b[36m(XGBoostTrainer pid=20624)\u001b[0m [19:33:05] [17]\ttrain-logloss:0.01980\ttrain-error:0.00000\tvalid-logloss:0.05711\tvalid-error:0.00877\n",
      "\u001b[36m(XGBoostTrainer pid=20624)\u001b[0m [19:33:05] [18]\ttrain-logloss:0.01826\ttrain-error:0.00000\tvalid-logloss:0.05327\tvalid-error:0.00877\n",
      "\u001b[36m(XGBoostTrainer pid=20624)\u001b[0m [19:33:05] [19]\ttrain-logloss:0.01695\ttrain-error:0.00000\tvalid-logloss:0.05239\tvalid-error:0.00877\n",
      "\u001b[36m(XGBoostTrainer pid=20624)\u001b[0m [19:33:05] [20]\ttrain-logloss:0.01571\ttrain-error:0.00000\tvalid-logloss:0.04998\tvalid-error:0.00877\n",
      "\u001b[36m(XGBoostTrainer pid=20624)\u001b[0m [19:33:05] [21]\ttrain-logloss:0.01475\ttrain-error:0.00000\tvalid-logloss:0.04893\tvalid-error:0.00877\n",
      "\u001b[36m(XGBoostTrainer pid=20624)\u001b[0m [19:33:06] [22]\ttrain-logloss:0.01396\ttrain-error:0.00000\tvalid-logloss:0.04894\tvalid-error:0.00877\n",
      "\u001b[36m(XGBoostTrainer pid=20624)\u001b[0m [19:33:06] [23]\ttrain-logloss:0.01319\ttrain-error:0.00000\tvalid-logloss:0.04690\tvalid-error:0.00877\n",
      "\u001b[36m(XGBoostTrainer pid=20624)\u001b[0m [19:33:06] [24]\ttrain-logloss:0.01276\ttrain-error:0.00000\tvalid-logloss:0.04552\tvalid-error:0.00877\n",
      "\u001b[36m(XGBoostTrainer pid=20624)\u001b[0m [19:33:06] [25]\ttrain-logloss:0.01225\ttrain-error:0.00000\tvalid-logloss:0.04465\tvalid-error:0.00877\n",
      "\u001b[36m(XGBoostTrainer pid=20624)\u001b[0m [19:33:06] [26]\ttrain-logloss:0.01173\ttrain-error:0.00000\tvalid-logloss:0.04315\tvalid-error:0.00877\n",
      "\u001b[36m(XGBoostTrainer pid=20624)\u001b[0m [19:33:06] [27]\ttrain-logloss:0.01109\ttrain-error:0.00000\tvalid-logloss:0.04254\tvalid-error:0.00877\n",
      "\u001b[36m(XGBoostTrainer pid=20624)\u001b[0m [19:33:06] [28]\ttrain-logloss:0.01073\ttrain-error:0.00000\tvalid-logloss:0.04149\tvalid-error:0.00000\n",
      "\u001b[36m(XGBoostTrainer pid=20624)\u001b[0m [19:33:06] [29]\ttrain-logloss:0.01038\ttrain-error:0.00000\tvalid-logloss:0.04040\tvalid-error:0.00000\n",
      "\u001b[36m(RayTrainWorker pid=2888)\u001b[0m Checkpoint successfully created at: Checkpoint(filesystem=local, path=C:/Users/ADMIN/ray_logs/XGBoostTrainer_2024-12-10_19-31-48/XGBoostTrainer_4ee9d_00001/checkpoint_000000)\n",
      "\u001b[36m(XGBoostTrainer pid=15468)\u001b[0m Started distributed worker processes: \n",
      "\u001b[36m(XGBoostTrainer pid=15468)\u001b[0m - (node_id=e3ad6dd743f38fb6ad65f352ab024ac371bddd111b7b321bd0527f89, ip=127.0.0.1, pid=3036) world_rank=0, local_rank=0, node_rank=0\n",
      "\u001b[36m(XGBoostTrainer pid=15468)\u001b[0m - (node_id=e3ad6dd743f38fb6ad65f352ab024ac371bddd111b7b321bd0527f89, ip=127.0.0.1, pid=15332) world_rank=1, local_rank=1, node_rank=0\n",
      "\u001b[36m(XGBoostTrainer pid=15468)\u001b[0m - (node_id=e3ad6dd743f38fb6ad65f352ab024ac371bddd111b7b321bd0527f89, ip=127.0.0.1, pid=8540) world_rank=2, local_rank=2, node_rank=0\n",
      "\u001b[36m(RayTrainWorker pid=15332)\u001b[0m [19:33:28] Task [xgboost.ray-rank=00000001]:9627fb89db8cba45b99f836001000000 got rank 1\n",
      "\u001b[36m(SplitCoordinator pid=13972)\u001b[0m Starting execution of Dataset. Full logs are in C:\\Users\\ADMIN\\AppData\\Local\\Temp\\ray\\session_2024-12-10_19-25-32_918088_1352\\logs\\ray-data\n",
      "\u001b[36m(SplitCoordinator pid=13972)\u001b[0m Execution plan of Dataset: InputDataBuffer[Input] -> OutputSplitter[split(3, equal=True)]\n"
     ]
    },
    {
     "data": {
      "application/vnd.jupyter.widget-view+json": {
       "model_id": "5fe08fb574cb48d7b0b7c947a3ce8292",
       "version_major": 2,
       "version_minor": 0
      },
      "text/plain": [
       "(pid=13972) Running 0: 0.00 row [00:00, ? row/s]"
      ]
     },
     "metadata": {},
     "output_type": "display_data"
    },
    {
     "data": {
      "application/vnd.jupyter.widget-view+json": {
       "model_id": "186ac5ce6d2345ea8eeb79f60a7bd1c9",
       "version_major": 2,
       "version_minor": 0
      },
      "text/plain": [
       "(pid=13972) - split(3, equal=True) 1: 0.00 row [00:00, ? row/s]"
      ]
     },
     "metadata": {},
     "output_type": "display_data"
    },
    {
     "name": "stderr",
     "output_type": "stream",
     "text": [
      "\u001b[36m(RayTrainWorker pid=8540)\u001b[0m [19:33:28] Task [xgboost.ray-rank=00000002]:1a596762a06c5e942909f19d01000000 got rank 2\u001b[32m [repeated 2x across cluster]\u001b[0m\n"
     ]
    },
    {
     "data": {
      "application/vnd.jupyter.widget-view+json": {
       "model_id": "4ae84b7861814f4da5915a3fcd4ee5e1",
       "version_major": 2,
       "version_minor": 0
      },
      "text/plain": [
       "(pid=14164) Running 0: 0.00 row [00:00, ? row/s]"
      ]
     },
     "metadata": {},
     "output_type": "display_data"
    },
    {
     "data": {
      "application/vnd.jupyter.widget-view+json": {
       "model_id": "577996700b8d48dd8ca9f06f93063794",
       "version_major": 2,
       "version_minor": 0
      },
      "text/plain": [
       "(pid=14164) - split(3, equal=True) 1: 0.00 row [00:00, ? row/s]"
      ]
     },
     "metadata": {},
     "output_type": "display_data"
    },
    {
     "name": "stderr",
     "output_type": "stream",
     "text": [
      "\u001b[36m(XGBoostTrainer pid=15468)\u001b[0m [19:33:35] [0]\ttrain-logloss:0.49784\ttrain-error:0.07506\tvalid-logloss:0.47143\tvalid-error:0.10526\n",
      "\u001b[36m(XGBoostTrainer pid=15468)\u001b[0m [19:33:35] [1]\ttrain-logloss:0.38954\ttrain-error:0.07285\tvalid-logloss:0.37672\tvalid-error:0.05263\n",
      "\u001b[36m(XGBoostTrainer pid=15468)\u001b[0m [19:33:35] [2]\ttrain-logloss:0.32230\ttrain-error:0.06181\tvalid-logloss:0.30711\tvalid-error:0.04386\n",
      "\u001b[36m(XGBoostTrainer pid=15468)\u001b[0m [19:33:35] [3]\ttrain-logloss:0.27139\ttrain-error:0.07285\tvalid-logloss:0.25914\tvalid-error:0.05263\n",
      "\u001b[36m(XGBoostTrainer pid=15468)\u001b[0m [19:33:35] [4]\ttrain-logloss:0.23683\ttrain-error:0.05298\tvalid-logloss:0.23169\tvalid-error:0.05263\n",
      "\u001b[36m(XGBoostTrainer pid=15468)\u001b[0m [19:33:35] [5]\ttrain-logloss:0.21244\ttrain-error:0.05519\tvalid-logloss:0.20918\tvalid-error:0.05263\n",
      "\u001b[36m(XGBoostTrainer pid=15468)\u001b[0m [19:33:35] [6]\ttrain-logloss:0.19241\ttrain-error:0.05077\tvalid-logloss:0.18667\tvalid-error:0.04386\n",
      "\u001b[36m(XGBoostTrainer pid=15468)\u001b[0m [19:33:35] [7]\ttrain-logloss:0.17651\ttrain-error:0.04415\tvalid-logloss:0.17730\tvalid-error:0.01754\n",
      "\u001b[36m(XGBoostTrainer pid=15468)\u001b[0m [19:33:35] [8]\ttrain-logloss:0.16276\ttrain-error:0.03532\tvalid-logloss:0.16073\tvalid-error:0.01754\n",
      "\u001b[36m(XGBoostTrainer pid=15468)\u001b[0m [19:33:35] [9]\ttrain-logloss:0.15179\ttrain-error:0.03974\tvalid-logloss:0.15765\tvalid-error:0.01754\n",
      "\u001b[36m(XGBoostTrainer pid=15468)\u001b[0m [19:33:35] [10]\ttrain-logloss:0.14260\ttrain-error:0.03974\tvalid-logloss:0.14674\tvalid-error:0.01754\n",
      "\u001b[36m(XGBoostTrainer pid=15468)\u001b[0m [19:33:35] [11]\ttrain-logloss:0.13396\ttrain-error:0.03532\tvalid-logloss:0.13826\tvalid-error:0.01754\n",
      "\u001b[36m(XGBoostTrainer pid=15468)\u001b[0m [19:33:35] [12]\ttrain-logloss:0.12718\ttrain-error:0.02649\tvalid-logloss:0.13733\tvalid-error:0.01754\n",
      "\u001b[36m(XGBoostTrainer pid=15468)\u001b[0m [19:33:35] [13]\ttrain-logloss:0.12098\ttrain-error:0.02649\tvalid-logloss:0.12796\tvalid-error:0.02632\n",
      "\u001b[36m(XGBoostTrainer pid=15468)\u001b[0m [19:33:35] [14]\ttrain-logloss:0.11538\ttrain-error:0.02649\tvalid-logloss:0.12664\tvalid-error:0.02632\n",
      "\u001b[36m(XGBoostTrainer pid=15468)\u001b[0m [19:33:35] [15]\ttrain-logloss:0.11024\ttrain-error:0.02208\tvalid-logloss:0.12425\tvalid-error:0.02632\n",
      "\u001b[36m(XGBoostTrainer pid=15468)\u001b[0m [19:33:35] [16]\ttrain-logloss:0.10595\ttrain-error:0.02428\tvalid-logloss:0.12447\tvalid-error:0.01754\n",
      "\u001b[36m(XGBoostTrainer pid=15468)\u001b[0m [19:33:35] [17]\ttrain-logloss:0.10190\ttrain-error:0.02208\tvalid-logloss:0.11788\tvalid-error:0.01754\n",
      "\u001b[36m(XGBoostTrainer pid=15468)\u001b[0m [19:33:35] [18]\ttrain-logloss:0.09839\ttrain-error:0.02208\tvalid-logloss:0.11071\tvalid-error:0.02632\n",
      "\u001b[36m(XGBoostTrainer pid=15468)\u001b[0m [19:33:35] [19]\ttrain-logloss:0.09491\ttrain-error:0.01987\tvalid-logloss:0.10635\tvalid-error:0.03509\n",
      "\u001b[36m(XGBoostTrainer pid=15468)\u001b[0m [19:33:35] [20]\ttrain-logloss:0.09141\ttrain-error:0.01987\tvalid-logloss:0.10362\tvalid-error:0.02632\n",
      "\u001b[36m(XGBoostTrainer pid=15468)\u001b[0m [19:33:35] [21]\ttrain-logloss:0.08873\ttrain-error:0.01545\tvalid-logloss:0.09888\tvalid-error:0.02632\n",
      "\u001b[36m(XGBoostTrainer pid=15468)\u001b[0m [19:33:35] [22]\ttrain-logloss:0.08611\ttrain-error:0.01766\tvalid-logloss:0.09475\tvalid-error:0.02632\n",
      "\u001b[36m(XGBoostTrainer pid=15468)\u001b[0m [19:33:35] [23]\ttrain-logloss:0.08351\ttrain-error:0.01325\tvalid-logloss:0.09518\tvalid-error:0.01754\n",
      "\u001b[36m(XGBoostTrainer pid=15468)\u001b[0m [19:33:35] [24]\ttrain-logloss:0.08108\ttrain-error:0.01766\tvalid-logloss:0.09403\tvalid-error:0.02632\n",
      "\u001b[36m(XGBoostTrainer pid=15468)\u001b[0m [19:33:35] [25]\ttrain-logloss:0.07866\ttrain-error:0.01766\tvalid-logloss:0.09138\tvalid-error:0.02632\n",
      "\u001b[36m(XGBoostTrainer pid=15468)\u001b[0m [19:33:35] [26]\ttrain-logloss:0.07650\ttrain-error:0.01545\tvalid-logloss:0.09257\tvalid-error:0.01754\n",
      "\u001b[36m(XGBoostTrainer pid=15468)\u001b[0m [19:33:35] [27]\ttrain-logloss:0.07448\ttrain-error:0.01766\tvalid-logloss:0.09250\tvalid-error:0.02632\n",
      "\u001b[36m(XGBoostTrainer pid=15468)\u001b[0m [19:33:35] [28]\ttrain-logloss:0.07252\ttrain-error:0.01545\tvalid-logloss:0.08931\tvalid-error:0.01754\n",
      "\u001b[36m(XGBoostTrainer pid=15468)\u001b[0m [19:33:35] [29]\ttrain-logloss:0.07058\ttrain-error:0.01545\tvalid-logloss:0.08488\tvalid-error:0.01754\n",
      "\u001b[36m(RayTrainWorker pid=3036)\u001b[0m Checkpoint successfully created at: Checkpoint(filesystem=local, path=C:/Users/ADMIN/ray_logs/XGBoostTrainer_2024-12-10_19-31-48/XGBoostTrainer_4ee9d_00002/checkpoint_000000)\n",
      "\u001b[36m(XGBoostTrainer pid=10428)\u001b[0m Started distributed worker processes: \n",
      "\u001b[36m(XGBoostTrainer pid=10428)\u001b[0m - (node_id=e3ad6dd743f38fb6ad65f352ab024ac371bddd111b7b321bd0527f89, ip=127.0.0.1, pid=16928) world_rank=0, local_rank=0, node_rank=0\n",
      "\u001b[36m(XGBoostTrainer pid=10428)\u001b[0m - (node_id=e3ad6dd743f38fb6ad65f352ab024ac371bddd111b7b321bd0527f89, ip=127.0.0.1, pid=14996) world_rank=1, local_rank=1, node_rank=0\n",
      "\u001b[36m(XGBoostTrainer pid=10428)\u001b[0m - (node_id=e3ad6dd743f38fb6ad65f352ab024ac371bddd111b7b321bd0527f89, ip=127.0.0.1, pid=6344) world_rank=2, local_rank=2, node_rank=0\n",
      "\u001b[36m(SplitCoordinator pid=14164)\u001b[0m Starting execution of Dataset. Full logs are in C:\\Users\\ADMIN\\AppData\\Local\\Temp\\ray\\session_2024-12-10_19-25-32_918088_1352\\logs\\ray-data\n",
      "\u001b[36m(SplitCoordinator pid=14164)\u001b[0m Execution plan of Dataset: InputDataBuffer[Input] -> OutputSplitter[split(3, equal=True)]\n",
      "\u001b[36m(RayTrainWorker pid=16928)\u001b[0m [19:33:52] Task [xgboost.ray-rank=00000000]:815e49df9f531cfd5c6e977b01000000 got rank 0\n",
      "\u001b[36m(SplitCoordinator pid=2032)\u001b[0m Starting execution of Dataset. Full logs are in C:\\Users\\ADMIN\\AppData\\Local\\Temp\\ray\\session_2024-12-10_19-25-32_918088_1352\\logs\\ray-data\n",
      "\u001b[36m(SplitCoordinator pid=2032)\u001b[0m Execution plan of Dataset: InputDataBuffer[Input] -> OutputSplitter[split(3, equal=True)]\n"
     ]
    },
    {
     "data": {
      "application/vnd.jupyter.widget-view+json": {
       "model_id": "7f73229db162451cabb6774fceff577d",
       "version_major": 2,
       "version_minor": 0
      },
      "text/plain": [
       "(pid=2032) Running 0: 0.00 row [00:00, ? row/s]"
      ]
     },
     "metadata": {},
     "output_type": "display_data"
    },
    {
     "data": {
      "application/vnd.jupyter.widget-view+json": {
       "model_id": "124f23fbd39e4408a9fbe192368104ed",
       "version_major": 2,
       "version_minor": 0
      },
      "text/plain": [
       "(pid=2032) - split(3, equal=True) 1: 0.00 row [00:00, ? row/s]"
      ]
     },
     "metadata": {},
     "output_type": "display_data"
    },
    {
     "name": "stderr",
     "output_type": "stream",
     "text": [
      "\u001b[36m(RayTrainWorker pid=14996)\u001b[0m [19:33:52] Task [xgboost.ray-rank=00000001]:5095e6f43220cdc99d7e50e901000000 got rank 1\u001b[32m [repeated 2x across cluster]\u001b[0m\n"
     ]
    },
    {
     "data": {
      "application/vnd.jupyter.widget-view+json": {
       "model_id": "c94d033262b440e2a2fd91f32464c38f",
       "version_major": 2,
       "version_minor": 0
      },
      "text/plain": [
       "(pid=14092) Running 0: 0.00 row [00:00, ? row/s]"
      ]
     },
     "metadata": {},
     "output_type": "display_data"
    },
    {
     "data": {
      "application/vnd.jupyter.widget-view+json": {
       "model_id": "4b289c665cb14404b63f156818114369",
       "version_major": 2,
       "version_minor": 0
      },
      "text/plain": [
       "(pid=14092) - split(3, equal=True) 1: 0.00 row [00:00, ? row/s]"
      ]
     },
     "metadata": {},
     "output_type": "display_data"
    },
    {
     "name": "stderr",
     "output_type": "stream",
     "text": [
      "\u001b[36m(XGBoostTrainer pid=10428)\u001b[0m [19:33:58] [0]\ttrain-logloss:0.49784\ttrain-error:0.07506\tvalid-logloss:0.47143\tvalid-error:0.10526\n",
      "\u001b[36m(XGBoostTrainer pid=10428)\u001b[0m [19:33:58] [1]\ttrain-logloss:0.38954\ttrain-error:0.07285\tvalid-logloss:0.37672\tvalid-error:0.05263\n",
      "\u001b[36m(XGBoostTrainer pid=10428)\u001b[0m [19:33:58] [2]\ttrain-logloss:0.32230\ttrain-error:0.06181\tvalid-logloss:0.30711\tvalid-error:0.04386\n",
      "\u001b[36m(XGBoostTrainer pid=10428)\u001b[0m [19:33:58] [3]\ttrain-logloss:0.27139\ttrain-error:0.07285\tvalid-logloss:0.25914\tvalid-error:0.05263\n",
      "\u001b[36m(XGBoostTrainer pid=10428)\u001b[0m [19:33:58] [4]\ttrain-logloss:0.23683\ttrain-error:0.05298\tvalid-logloss:0.23169\tvalid-error:0.05263\n",
      "\u001b[36m(XGBoostTrainer pid=10428)\u001b[0m [19:33:58] [5]\ttrain-logloss:0.21244\ttrain-error:0.05519\tvalid-logloss:0.20918\tvalid-error:0.05263\n",
      "\u001b[36m(XGBoostTrainer pid=10428)\u001b[0m [19:33:58] [6]\ttrain-logloss:0.19241\ttrain-error:0.05077\tvalid-logloss:0.18667\tvalid-error:0.04386\n",
      "\u001b[36m(XGBoostTrainer pid=10428)\u001b[0m [19:33:58] [7]\ttrain-logloss:0.17651\ttrain-error:0.04415\tvalid-logloss:0.17730\tvalid-error:0.01754\n",
      "\u001b[36m(XGBoostTrainer pid=10428)\u001b[0m [19:33:58] [8]\ttrain-logloss:0.16276\ttrain-error:0.03532\tvalid-logloss:0.16073\tvalid-error:0.01754\n",
      "\u001b[36m(XGBoostTrainer pid=10428)\u001b[0m [19:33:58] [9]\ttrain-logloss:0.15179\ttrain-error:0.03974\tvalid-logloss:0.15765\tvalid-error:0.01754\n",
      "\u001b[36m(XGBoostTrainer pid=10428)\u001b[0m [19:33:58] [10]\ttrain-logloss:0.14260\ttrain-error:0.03974\tvalid-logloss:0.14674\tvalid-error:0.01754\n",
      "\u001b[36m(XGBoostTrainer pid=10428)\u001b[0m [19:33:58] [11]\ttrain-logloss:0.13396\ttrain-error:0.03532\tvalid-logloss:0.13826\tvalid-error:0.01754\n",
      "\u001b[36m(XGBoostTrainer pid=10428)\u001b[0m [19:33:58] [12]\ttrain-logloss:0.12718\ttrain-error:0.02649\tvalid-logloss:0.13733\tvalid-error:0.01754\n",
      "\u001b[36m(XGBoostTrainer pid=10428)\u001b[0m [19:33:58] [13]\ttrain-logloss:0.12098\ttrain-error:0.02649\tvalid-logloss:0.12796\tvalid-error:0.02632\n",
      "\u001b[36m(XGBoostTrainer pid=10428)\u001b[0m [19:33:58] [14]\ttrain-logloss:0.11538\ttrain-error:0.02649\tvalid-logloss:0.12664\tvalid-error:0.02632\n",
      "\u001b[36m(XGBoostTrainer pid=10428)\u001b[0m [19:33:58] [15]\ttrain-logloss:0.11024\ttrain-error:0.02208\tvalid-logloss:0.12425\tvalid-error:0.02632\n",
      "\u001b[36m(XGBoostTrainer pid=10428)\u001b[0m [19:33:58] [16]\ttrain-logloss:0.10595\ttrain-error:0.02428\tvalid-logloss:0.12447\tvalid-error:0.01754\n",
      "\u001b[36m(XGBoostTrainer pid=10428)\u001b[0m [19:33:58] [17]\ttrain-logloss:0.10190\ttrain-error:0.02208\tvalid-logloss:0.11788\tvalid-error:0.01754\n",
      "\u001b[36m(XGBoostTrainer pid=10428)\u001b[0m [19:33:58] [18]\ttrain-logloss:0.09839\ttrain-error:0.02208\tvalid-logloss:0.11071\tvalid-error:0.02632\n",
      "\u001b[36m(XGBoostTrainer pid=10428)\u001b[0m [19:33:58] [19]\ttrain-logloss:0.09491\ttrain-error:0.01987\tvalid-logloss:0.10635\tvalid-error:0.03509\n",
      "\u001b[36m(XGBoostTrainer pid=10428)\u001b[0m [19:33:58] [20]\ttrain-logloss:0.09141\ttrain-error:0.01987\tvalid-logloss:0.10362\tvalid-error:0.02632\n",
      "\u001b[36m(XGBoostTrainer pid=10428)\u001b[0m [19:33:58] [21]\ttrain-logloss:0.08873\ttrain-error:0.01545\tvalid-logloss:0.09888\tvalid-error:0.02632\n",
      "\u001b[36m(XGBoostTrainer pid=10428)\u001b[0m [19:33:58] [22]\ttrain-logloss:0.08611\ttrain-error:0.01766\tvalid-logloss:0.09475\tvalid-error:0.02632\n",
      "\u001b[36m(XGBoostTrainer pid=10428)\u001b[0m [19:33:58] [23]\ttrain-logloss:0.08351\ttrain-error:0.01325\tvalid-logloss:0.09518\tvalid-error:0.01754\n",
      "\u001b[36m(XGBoostTrainer pid=10428)\u001b[0m [19:33:58] [24]\ttrain-logloss:0.08108\ttrain-error:0.01766\tvalid-logloss:0.09403\tvalid-error:0.02632\n",
      "\u001b[36m(XGBoostTrainer pid=10428)\u001b[0m [19:33:58] [25]\ttrain-logloss:0.07866\ttrain-error:0.01766\tvalid-logloss:0.09138\tvalid-error:0.02632\n",
      "\u001b[36m(XGBoostTrainer pid=10428)\u001b[0m [19:33:58] [26]\ttrain-logloss:0.07650\ttrain-error:0.01545\tvalid-logloss:0.09257\tvalid-error:0.01754\n",
      "\u001b[36m(XGBoostTrainer pid=10428)\u001b[0m [19:33:58] [27]\ttrain-logloss:0.07448\ttrain-error:0.01766\tvalid-logloss:0.09250\tvalid-error:0.02632\n",
      "\u001b[36m(XGBoostTrainer pid=10428)\u001b[0m [19:33:58] [28]\ttrain-logloss:0.07252\ttrain-error:0.01545\tvalid-logloss:0.08931\tvalid-error:0.01754\n",
      "\u001b[36m(XGBoostTrainer pid=10428)\u001b[0m [19:33:58] [29]\ttrain-logloss:0.07058\ttrain-error:0.01545\tvalid-logloss:0.08488\tvalid-error:0.01754\n",
      "\u001b[36m(RayTrainWorker pid=16928)\u001b[0m Checkpoint successfully created at: Checkpoint(filesystem=local, path=C:/Users/ADMIN/ray_logs/XGBoostTrainer_2024-12-10_19-31-48/XGBoostTrainer_4ee9d_00003/checkpoint_000000)\n",
      "\u001b[36m(XGBoostTrainer pid=9996)\u001b[0m Started distributed worker processes: \n",
      "\u001b[36m(XGBoostTrainer pid=9996)\u001b[0m - (node_id=e3ad6dd743f38fb6ad65f352ab024ac371bddd111b7b321bd0527f89, ip=127.0.0.1, pid=13504) world_rank=0, local_rank=0, node_rank=0\n",
      "\u001b[36m(XGBoostTrainer pid=9996)\u001b[0m - (node_id=e3ad6dd743f38fb6ad65f352ab024ac371bddd111b7b321bd0527f89, ip=127.0.0.1, pid=12608) world_rank=1, local_rank=1, node_rank=0\n",
      "\u001b[36m(XGBoostTrainer pid=9996)\u001b[0m - (node_id=e3ad6dd743f38fb6ad65f352ab024ac371bddd111b7b321bd0527f89, ip=127.0.0.1, pid=15120) world_rank=2, local_rank=2, node_rank=0\n",
      "\u001b[36m(SplitCoordinator pid=14092)\u001b[0m Starting execution of Dataset. Full logs are in C:\\Users\\ADMIN\\AppData\\Local\\Temp\\ray\\session_2024-12-10_19-25-32_918088_1352\\logs\\ray-data\n",
      "\u001b[36m(SplitCoordinator pid=14092)\u001b[0m Execution plan of Dataset: InputDataBuffer[Input] -> OutputSplitter[split(3, equal=True)]\n",
      "\u001b[36m(RayTrainWorker pid=13504)\u001b[0m [19:34:15] Task [xgboost.ray-rank=00000000]:06663c299a7d9d70ac1ae4f101000000 got rank 0\n",
      "\u001b[36m(SplitCoordinator pid=9324)\u001b[0m Starting execution of Dataset. Full logs are in C:\\Users\\ADMIN\\AppData\\Local\\Temp\\ray\\session_2024-12-10_19-25-32_918088_1352\\logs\\ray-data\n",
      "\u001b[36m(SplitCoordinator pid=9324)\u001b[0m Execution plan of Dataset: InputDataBuffer[Input] -> OutputSplitter[split(3, equal=True)]\n"
     ]
    },
    {
     "data": {
      "application/vnd.jupyter.widget-view+json": {
       "model_id": "71cc2cc985bf401ab5ec484233ae78f2",
       "version_major": 2,
       "version_minor": 0
      },
      "text/plain": [
       "(pid=9324) Running 0: 0.00 row [00:00, ? row/s]"
      ]
     },
     "metadata": {},
     "output_type": "display_data"
    },
    {
     "data": {
      "application/vnd.jupyter.widget-view+json": {
       "model_id": "9a206b553d8947588a078f9d9da1b4cc",
       "version_major": 2,
       "version_minor": 0
      },
      "text/plain": [
       "(pid=9324) - split(3, equal=True) 1: 0.00 row [00:00, ? row/s]"
      ]
     },
     "metadata": {},
     "output_type": "display_data"
    },
    {
     "name": "stderr",
     "output_type": "stream",
     "text": [
      "\u001b[36m(RayTrainWorker pid=12608)\u001b[0m [19:34:15] Task [xgboost.ray-rank=00000001]:af1c330dcfcc11bdd641addb01000000 got rank 1\u001b[32m [repeated 2x across cluster]\u001b[0m\n"
     ]
    },
    {
     "data": {
      "application/vnd.jupyter.widget-view+json": {
       "model_id": "87188bc0297247c093adeef9fc508f05",
       "version_major": 2,
       "version_minor": 0
      },
      "text/plain": [
       "(pid=12928) Running 0: 0.00 row [00:00, ? row/s]"
      ]
     },
     "metadata": {},
     "output_type": "display_data"
    },
    {
     "data": {
      "application/vnd.jupyter.widget-view+json": {
       "model_id": "29ece7cbf38e4febb4969ebf3948710d",
       "version_major": 2,
       "version_minor": 0
      },
      "text/plain": [
       "(pid=12928) - split(3, equal=True) 1: 0.00 row [00:00, ? row/s]"
      ]
     },
     "metadata": {},
     "output_type": "display_data"
    },
    {
     "name": "stderr",
     "output_type": "stream",
     "text": [
      "\u001b[36m(XGBoostTrainer pid=9996)\u001b[0m [19:34:22] [0]\ttrain-logloss:0.44963\ttrain-error:0.02428\tvalid-logloss:0.45128\tvalid-error:0.07895\n",
      "\u001b[36m(XGBoostTrainer pid=9996)\u001b[0m [19:34:22] [1]\ttrain-logloss:0.32296\ttrain-error:0.02208\tvalid-logloss:0.35640\tvalid-error:0.07018\n",
      "\u001b[36m(XGBoostTrainer pid=9996)\u001b[0m [19:34:22] [2]\ttrain-logloss:0.23951\ttrain-error:0.01104\tvalid-logloss:0.28115\tvalid-error:0.07895\n",
      "\u001b[36m(XGBoostTrainer pid=9996)\u001b[0m [19:34:22] [3]\ttrain-logloss:0.18233\ttrain-error:0.01104\tvalid-logloss:0.23415\tvalid-error:0.04386\n",
      "\u001b[36m(XGBoostTrainer pid=9996)\u001b[0m [19:34:22] [4]\ttrain-logloss:0.14165\ttrain-error:0.00883\tvalid-logloss:0.19498\tvalid-error:0.04386\n",
      "\u001b[36m(XGBoostTrainer pid=9996)\u001b[0m [19:34:22] [5]\ttrain-logloss:0.11227\ttrain-error:0.00442\tvalid-logloss:0.17539\tvalid-error:0.03509\n",
      "\u001b[36m(XGBoostTrainer pid=9996)\u001b[0m [19:34:22] [6]\ttrain-logloss:0.09077\ttrain-error:0.00662\tvalid-logloss:0.15537\tvalid-error:0.03509\n",
      "\u001b[36m(XGBoostTrainer pid=9996)\u001b[0m [19:34:22] [7]\ttrain-logloss:0.07449\ttrain-error:0.00442\tvalid-logloss:0.13189\tvalid-error:0.01754\n",
      "\u001b[36m(XGBoostTrainer pid=9996)\u001b[0m [19:34:22] [8]\ttrain-logloss:0.06241\ttrain-error:0.00442\tvalid-logloss:0.11171\tvalid-error:0.00000\n",
      "\u001b[36m(XGBoostTrainer pid=9996)\u001b[0m [19:34:22] [9]\ttrain-logloss:0.05268\ttrain-error:0.00442\tvalid-logloss:0.10911\tvalid-error:0.01754\n",
      "\u001b[36m(XGBoostTrainer pid=9996)\u001b[0m [19:34:22] [10]\ttrain-logloss:0.04537\ttrain-error:0.00442\tvalid-logloss:0.10359\tvalid-error:0.01754\n",
      "\u001b[36m(XGBoostTrainer pid=9996)\u001b[0m [19:34:22] [11]\ttrain-logloss:0.03897\ttrain-error:0.00000\tvalid-logloss:0.09775\tvalid-error:0.02632\n",
      "\u001b[36m(XGBoostTrainer pid=9996)\u001b[0m [19:34:22] [12]\ttrain-logloss:0.03426\ttrain-error:0.00221\tvalid-logloss:0.08887\tvalid-error:0.02632\n",
      "\u001b[36m(XGBoostTrainer pid=9996)\u001b[0m [19:34:22] [13]\ttrain-logloss:0.03031\ttrain-error:0.00000\tvalid-logloss:0.08275\tvalid-error:0.02632\n",
      "\u001b[36m(XGBoostTrainer pid=9996)\u001b[0m [19:34:22] [14]\ttrain-logloss:0.02683\ttrain-error:0.00000\tvalid-logloss:0.07362\tvalid-error:0.01754\n",
      "\u001b[36m(XGBoostTrainer pid=9996)\u001b[0m [19:34:22] [15]\ttrain-logloss:0.02431\ttrain-error:0.00000\tvalid-logloss:0.06677\tvalid-error:0.02632\n",
      "\u001b[36m(XGBoostTrainer pid=9996)\u001b[0m [19:34:22] [16]\ttrain-logloss:0.02225\ttrain-error:0.00000\tvalid-logloss:0.06311\tvalid-error:0.01754\n",
      "\u001b[36m(XGBoostTrainer pid=9996)\u001b[0m [19:34:22] [17]\ttrain-logloss:0.02057\ttrain-error:0.00000\tvalid-logloss:0.06033\tvalid-error:0.01754\n",
      "\u001b[36m(XGBoostTrainer pid=9996)\u001b[0m [19:34:22] [18]\ttrain-logloss:0.01904\ttrain-error:0.00000\tvalid-logloss:0.05695\tvalid-error:0.00877\n",
      "\u001b[36m(XGBoostTrainer pid=9996)\u001b[0m [19:34:22] [19]\ttrain-logloss:0.01755\ttrain-error:0.00000\tvalid-logloss:0.05675\tvalid-error:0.00877\n",
      "\u001b[36m(XGBoostTrainer pid=9996)\u001b[0m [19:34:22] [20]\ttrain-logloss:0.01621\ttrain-error:0.00000\tvalid-logloss:0.05645\tvalid-error:0.01754\n",
      "\u001b[36m(XGBoostTrainer pid=9996)\u001b[0m [19:34:22] [21]\ttrain-logloss:0.01506\ttrain-error:0.00000\tvalid-logloss:0.05401\tvalid-error:0.00877\n",
      "\u001b[36m(XGBoostTrainer pid=9996)\u001b[0m [19:34:22] [22]\ttrain-logloss:0.01433\ttrain-error:0.00000\tvalid-logloss:0.05220\tvalid-error:0.01754\n",
      "\u001b[36m(XGBoostTrainer pid=9996)\u001b[0m [19:34:22] [23]\ttrain-logloss:0.01372\ttrain-error:0.00000\tvalid-logloss:0.05118\tvalid-error:0.00877\n",
      "\u001b[36m(XGBoostTrainer pid=9996)\u001b[0m [19:34:22] [24]\ttrain-logloss:0.01316\ttrain-error:0.00000\tvalid-logloss:0.05096\tvalid-error:0.00877\n",
      "\u001b[36m(XGBoostTrainer pid=9996)\u001b[0m [19:34:22] [25]\ttrain-logloss:0.01262\ttrain-error:0.00000\tvalid-logloss:0.05019\tvalid-error:0.00877\n",
      "\u001b[36m(XGBoostTrainer pid=9996)\u001b[0m [19:34:22] [26]\ttrain-logloss:0.01217\ttrain-error:0.00000\tvalid-logloss:0.04922\tvalid-error:0.00877\n",
      "\u001b[36m(XGBoostTrainer pid=9996)\u001b[0m [19:34:22] [27]\ttrain-logloss:0.01166\ttrain-error:0.00000\tvalid-logloss:0.04729\tvalid-error:0.00877\n",
      "\u001b[36m(XGBoostTrainer pid=9996)\u001b[0m [19:34:22] [28]\ttrain-logloss:0.01115\ttrain-error:0.00000\tvalid-logloss:0.04877\tvalid-error:0.00877\n",
      "\u001b[36m(XGBoostTrainer pid=9996)\u001b[0m [19:34:22] [29]\ttrain-logloss:0.01089\ttrain-error:0.00000\tvalid-logloss:0.04746\tvalid-error:0.00877\n",
      "\u001b[36m(RayTrainWorker pid=13504)\u001b[0m Checkpoint successfully created at: Checkpoint(filesystem=local, path=C:/Users/ADMIN/ray_logs/XGBoostTrainer_2024-12-10_19-31-48/XGBoostTrainer_4ee9d_00004/checkpoint_000000)\n",
      "2024-12-10 19:34:23,861\tINFO tune.py:1009 -- Wrote the latest version of all result files and experiment state to 'C:/Users/ADMIN/ray_logs/XGBoostTrainer_2024-12-10_19-31-48' in 0.0412s.\n",
      "2024-12-10 19:34:23,880\tINFO tune.py:1041 -- Total run time: 155.37 seconds (155.08 seconds for the tuning loop).\n"
     ]
    },
    {
     "name": "stdout",
     "output_type": "stream",
     "text": [
      "Best Result: Result(\n",
      "  metrics={'train-logloss': 0.01037820598838345, 'train-error': 0.0, 'valid-logloss': 0.04039745780908944, 'valid-error': 0.0},\n",
      "  path='C:/Users/ADMIN/ray_logs/XGBoostTrainer_2024-12-10_19-31-48/XGBoostTrainer_4ee9d_00001',\n",
      "  filesystem='local',\n",
      "  checkpoint=Checkpoint(filesystem=local, path=C:/Users/ADMIN/ray_logs/XGBoostTrainer_2024-12-10_19-31-48/XGBoostTrainer_4ee9d_00001/checkpoint_000000)\n",
      ")\n"
     ]
    }
   ],
   "source": [
    "import ray\n",
    "from ray.air.config import ScalingConfig\n",
    "from ray.train.xgboost import XGBoostTrainer\n",
    "from ray import tune\n",
    "from ray.tune.tuner import Tuner, TuneConfig\n",
    "from ray.air.config import RunConfig\n",
    "\n",
    "dataset = ray.data.read_csv(\"C:\\\\Users\\\\ADMIN\\\\Downloads\\\\breast_cancer.csv\")\n",
    "\n",
    "train_dataset, valid_dataset = dataset.train_test_split(test_size=0.2)\n",
    "test_dataset = valid_dataset.drop_columns(cols=[\"diagnosis\"])\n",
    "\n",
    "# NOTE: CPU does not have enough resources to run this example.\n",
    "# I tried using num_workers=1, resources_per_worker={\"CPU\": 1, \"GPU\": 0} in your\n",
    "# ScalingConfig below.\n",
    "trainer = XGBoostTrainer(\n",
    "    scaling_config=ScalingConfig(\n",
    "        num_workers=3,\n",
    "        use_gpu=False,\n",
    "    ),\n",
    "    label_column=\"diagnosis\",\n",
    "    num_boost_round=30,\n",
    "    params={\n",
    "        \"objective\": \"binary:logistic\",\n",
    "        \"eval_metric\": [\"logloss\", \"error\"],\n",
    "    },\n",
    "    datasets={\"train\": train_dataset, \"valid\": valid_dataset},\n",
    ")\n",
    "result = trainer.fit()\n",
    "print(result.metrics)\n",
    "\n",
    "# Define a custom log directory\n",
    "custom_log_dir = \"C:/Users/ADMIN/ray_logs\"\n",
    "\n",
    "# Ensure the directory exists\n",
    "import os\n",
    "os.makedirs(custom_log_dir, exist_ok=True)\n",
    "\n",
    "# Define the custom trial directory name function (if needed)\n",
    "def trial_dirname_creator(trial):\n",
    "    \"\"\"Create shorter directory names to avoid path length issues.\"\"\"\n",
    "    return f\"{trial.trainable_name}_{trial.trial_id}\"\n",
    "\n",
    "param_space = {\"params\": {\"max_depth\": tune.choice([1, 5, 50, 100])}}\n",
    "metric = \"train-logloss\"\n",
    "\n",
    "tuner = Tuner(\n",
    "    trainer,\n",
    "    param_space=param_space,\n",
    "    run_config=RunConfig(\n",
    "        verbose=1,\n",
    "        callbacks=[],  # Disable all callbacks including TensorBoard\n",
    "        storage_path=custom_log_dir,\n",
    "    ),\n",
    "    tune_config=TuneConfig(num_samples=5, metric=metric, mode=\"min\", trial_dirname_creator=trial_dirname_creator),\n",
    ")\n",
    "result_grid = tuner.fit()\n",
    "\n",
    "best_result = result_grid.get_best_result()\n",
    "print(\"Best Result:\", best_result)\n",
    "\n"
   ]
  },
  {
   "cell_type": "code",
   "execution_count": 13,
   "id": "9c473b05",
   "metadata": {
    "scrolled": true
   },
   "outputs": [
    {
     "name": "stdout",
     "output_type": "stream",
     "text": [
      "C:/Users/ADMIN/ray_logs/XGBoostTrainer_2024-12-10_19-31-48/XGBoostTrainer_4ee9d_00001\n",
      "\n",
      "\n",
      "OrderedDict([('train-logloss', 0.01037820598838345), ('train-error', 0.0), ('valid-logloss', 0.04039745780908944), ('valid-error', 0.0), ('timestamp', 1733877186), ('checkpoint_dir_name', 'checkpoint_000000'), ('should_checkpoint', True), ('done', True), ('training_iteration', 31), ('trial_id', '4ee9d_00001'), ('date', '2024-12-10_19-33-06'), ('time_this_iter_s', 0.033522605895996094), ('time_total_s', 22.87714171409607), ('pid', 20624), ('hostname', 'DESKTOP-2UG9FJV'), ('node_ip', '127.0.0.1'), ('config', {'params': {'max_depth': 5}}), ('time_since_restore', 22.87714171409607), ('iterations_since_restore', 31), ('experiment_tag', '1_max_depth=5')])\n",
      "\n",
      "\n",
      "{'params': {'max_depth': 5}}\n"
     ]
    }
   ],
   "source": [
    "best_logdir = best_result.path\n",
    "print(best_logdir)\n",
    "print('\\n')\n",
    "\n",
    "best_metrics = best_result.metrics\n",
    "print(best_metrics)\n",
    "print('\\n')\n",
    "\n",
    "best_config = best_result.config\n",
    "print(best_config)"
   ]
  },
  {
   "cell_type": "code",
   "execution_count": null,
   "id": "54d328be",
   "metadata": {},
   "outputs": [],
   "source": []
  },
  {
   "cell_type": "code",
   "execution_count": null,
   "id": "46d87176",
   "metadata": {},
   "outputs": [],
   "source": [
    "import pandas as pd\n",
    "from sklearn.model_selection import train_test_split\n",
    "from xgboost import XGBClassifier\n",
    "from sklearn.metrics import log_loss, accuracy_score\n",
    "import time\n",
    "\n",
    "# Load the dataset\n",
    "data = pd.read_csv(\"C:\\\\Users\\\\ADMIN\\\\Downloads\\\\breast_cancer.csv\")\n",
    "\n",
    "X_all_features = df.drop('diagnosis',axis=1)\n",
    "X_train_all_features, X_test_all_features, y_train, y_test = train_test_split(X_all_features, y, test_size = 0.2, random_state=42) #split the  data into traing and validating\n",
    "\n",
    "# Define depths to test\n",
    "depths = [40, 10, 75]\n",
    "\n",
    "results = []\n",
    "\n",
    "for max_depth in depths:\n",
    "    # Create the model with different max_depth values\n",
    "    model = XGBClassifier(\n",
    "        max_depth=max_depth,\n",
    "        n_estimators=100,\n",
    "        learning_rate=0.3,\n",
    "        objective='binary:logistic',\n",
    "        eval_metric=['logloss', 'error']\n",
    "    )\n",
    "\n",
    "    # Start timing\n",
    "    start_time = time.time()\n",
    "\n",
    "    # Train the model\n",
    "    model.fit(X_train_all_features, y_train, eval_set=[(X_test_all_features, y_test)], verbose=True)\n",
    "\n",
    "    # End timing\n",
    "    end_time = time.time()\n",
    "\n",
    "    # Predictions\n",
    "    y_pred_prob = model.predict_proba(X_test_all_features)[:, 1]  # Predicted probabilities\n",
    "    y_pred = model.predict(X_test_all_features)  # Binary predictions\n",
    "\n",
    "    # Calculate metrics\n",
    "    logloss = log_loss(y_valid, y_pred_prob)\n",
    "    accuracy = accuracy_score(y_valid, y_pred)\n",
    "\n",
    "    # Store results\n",
    "    results.append({\n",
    "        'max_depth': max_depth,\n",
    "        'training_time': end_time - start_time,\n",
    "        'log_loss': logloss,\n",
    "        'accuracy': accuracy\n",
    "    })\n",
    "\n",
    "    print(f\"Completed training with max_depth = {max_depth}\")\n",
    "    print(f\"Training Time: {end_time - start_time:.2f} seconds\")\n",
    "    print(f\"Log Loss: {logloss:.4f}\")\n",
    "    print(f\"Accuracy: {accuracy:.4f}\")\n",
    "\n",
    "# Output all results\n",
    "for result in results:\n",
    "    print(result)"
   ]
  }
 ],
 "metadata": {
  "kernelspec": {
   "display_name": "Python 3 (ipykernel)",
   "language": "python",
   "name": "python3"
  },
  "language_info": {
   "codemirror_mode": {
    "name": "ipython",
    "version": 3
   },
   "file_extension": ".py",
   "mimetype": "text/x-python",
   "name": "python",
   "nbconvert_exporter": "python",
   "pygments_lexer": "ipython3",
   "version": "3.11.5"
  }
 },
 "nbformat": 4,
 "nbformat_minor": 5
}
